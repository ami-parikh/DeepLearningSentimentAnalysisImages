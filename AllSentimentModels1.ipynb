{
 "cells": [
  {
   "cell_type": "code",
   "execution_count": 44,
   "metadata": {},
   "outputs": [],
   "source": [
    "import pandas as pd\n",
    "import keras\n",
    "from keras.datasets import imdb\n",
    "from keras import preprocessing\n",
    "import numpy as np\n",
    "import matplotlib.pyplot as plt\n",
    "from keras.models import Sequential\n",
    "from keras.layers import Dense, Dropout, Flatten\n",
    "from keras.layers import Conv2D, MaxPooling2D\n",
    "from keras import backend as K\n",
    "from sklearn.model_selection import train_test_split\n",
    "from keras.preprocessing import image"
   ]
  },
  {
   "cell_type": "code",
   "execution_count": 24,
   "metadata": {},
   "outputs": [],
   "source": [
    "datapath =  \"C:/University of Chicago/Deep Learning and Image Recognition/Project/all/train.csv\""
   ]
  },
  {
   "cell_type": "code",
   "execution_count": 25,
   "metadata": {},
   "outputs": [],
   "source": [
    "traindata = pd.read_csv(datapath)"
   ]
  },
  {
   "cell_type": "code",
   "execution_count": 26,
   "metadata": {},
   "outputs": [
    {
     "data": {
      "text/html": [
       "<div>\n",
       "<style scoped>\n",
       "    .dataframe tbody tr th:only-of-type {\n",
       "        vertical-align: middle;\n",
       "    }\n",
       "\n",
       "    .dataframe tbody tr th {\n",
       "        vertical-align: top;\n",
       "    }\n",
       "\n",
       "    .dataframe thead th {\n",
       "        text-align: right;\n",
       "    }\n",
       "</style>\n",
       "<table border=\"1\" class=\"dataframe\">\n",
       "  <thead>\n",
       "    <tr style=\"text-align: right;\">\n",
       "      <th></th>\n",
       "      <th>Emotion</th>\n",
       "      <th>Pixels</th>\n",
       "    </tr>\n",
       "  </thead>\n",
       "  <tbody>\n",
       "    <tr>\n",
       "      <th>0</th>\n",
       "      <td>3</td>\n",
       "      <td>221 240 251 254 255 255 255 255 255 255 255 25...</td>\n",
       "    </tr>\n",
       "    <tr>\n",
       "      <th>1</th>\n",
       "      <td>6</td>\n",
       "      <td>100 107 108 104 103 113 117 115 120 130 138 14...</td>\n",
       "    </tr>\n",
       "    <tr>\n",
       "      <th>2</th>\n",
       "      <td>4</td>\n",
       "      <td>35 50 56 57 63 76 74 79 85 86 105 133 145 152 ...</td>\n",
       "    </tr>\n",
       "    <tr>\n",
       "      <th>3</th>\n",
       "      <td>6</td>\n",
       "      <td>119 124 129 135 136 140 142 149 159 156 163 16...</td>\n",
       "    </tr>\n",
       "    <tr>\n",
       "      <th>4</th>\n",
       "      <td>2</td>\n",
       "      <td>160 173 186 194 188 185 175 162 153 143 135 12...</td>\n",
       "    </tr>\n",
       "  </tbody>\n",
       "</table>\n",
       "</div>"
      ],
      "text/plain": [
       "   Emotion                                             Pixels\n",
       "0        3  221 240 251 254 255 255 255 255 255 255 255 25...\n",
       "1        6  100 107 108 104 103 113 117 115 120 130 138 14...\n",
       "2        4  35 50 56 57 63 76 74 79 85 86 105 133 145 152 ...\n",
       "3        6  119 124 129 135 136 140 142 149 159 156 163 16...\n",
       "4        2  160 173 186 194 188 185 175 162 153 143 135 12..."
      ]
     },
     "execution_count": 26,
     "metadata": {},
     "output_type": "execute_result"
    }
   ],
   "source": [
    "traindata.head()"
   ]
  },
  {
   "cell_type": "code",
   "execution_count": 27,
   "metadata": {},
   "outputs": [],
   "source": [
    "labels = traindata['Emotion']"
   ]
  },
  {
   "cell_type": "code",
   "execution_count": 28,
   "metadata": {},
   "outputs": [],
   "source": [
    "traindata = traindata.drop(columns = [\"Emotion\"])"
   ]
  },
  {
   "cell_type": "code",
   "execution_count": 29,
   "metadata": {},
   "outputs": [],
   "source": [
    "traindata = traindata['Pixels'].str.split(' ')"
   ]
  },
  {
   "cell_type": "code",
   "execution_count": 30,
   "metadata": {},
   "outputs": [],
   "source": [
    "traindata = traindata.apply(lambda x:np.array([int(number) for number in x]).reshape((48,48)))"
   ]
  },
  {
   "cell_type": "code",
   "execution_count": 35,
   "metadata": {},
   "outputs": [],
   "source": [
    "x_train, x_test, y_train, y_test = train_test_split(traindata, labels,random_state=42, test_size=0.3)"
   ]
  },
  {
   "cell_type": "code",
   "execution_count": 39,
   "metadata": {},
   "outputs": [],
   "source": [
    "x_train = np.array(list(x_train))\n",
    "x_test = np.array(list(x_test))\n",
    "y_train = np.array(list(y_train))\n",
    "y_test = np.array(list(y_test))# input image dimensions\n"
   ]
  },
  {
   "cell_type": "code",
   "execution_count": 54,
   "metadata": {},
   "outputs": [],
   "source": [
    "img_rows, img_cols = 48, 48\n",
    "num_classes = 7\n",
    "batch_size = 32\n",
    "epochs = 20"
   ]
  },
  {
   "cell_type": "code",
   "execution_count": 47,
   "metadata": {},
   "outputs": [
    {
     "name": "stdout",
     "output_type": "stream",
     "text": [
      "x_train shape: (2924, 48, 48, 1)\n",
      "2924 train samples\n",
      "1254 test samples\n"
     ]
    }
   ],
   "source": [
    "if K.image_data_format() == 'channels_first':\n",
    "    x_train = x_train.reshape(x_train.shape[0], 1, img_rows, img_cols)\n",
    "    x_test = x_test.reshape(x_test.shape[0], 1, img_rows, img_cols)\n",
    "    input_shape = (1, img_rows, img_cols)\n",
    "else:\n",
    "    x_train = x_train.reshape(x_train.shape[0], img_rows, img_cols, 1)\n",
    "    x_test = x_test.reshape(x_test.shape[0], img_rows, img_cols, 1)\n",
    "    input_shape = (img_rows, img_cols, 1)\n",
    "\n",
    "x_train = x_train.astype('float32')\n",
    "x_test = x_test.astype('float32')\n",
    "x_train /= 255\n",
    "x_test /= 255\n",
    "print('x_train shape:', x_train.shape)\n",
    "print(x_train.shape[0], 'train samples')\n",
    "print(x_test.shape[0], 'test samples')\n",
    "\n",
    "# convert class vectors to binary class matrices\n",
    "y_train = keras.utils.to_categorical(y_train, num_classes)\n",
    "y_test = keras.utils.to_categorical(y_test, num_classes)"
   ]
  },
  {
   "cell_type": "code",
   "execution_count": 64,
   "metadata": {},
   "outputs": [],
   "source": [
    "#basic model \n",
    "model = Sequential()\n",
    "model.add(Conv2D(32, kernel_size=(3, 3),\n",
    "                 activation='relu',\n",
    "                 input_shape=input_shape))\n",
    "model.add(Conv2D(64, (3, 3), activation='relu'))\n",
    "model.add(MaxPooling2D(pool_size=(2, 2)))\n",
    "model.add(Dropout(0.25))\n",
    "model.add(Conv2D(32, kernel_size=(3, 3),\n",
    "                 activation='relu',\n",
    "                 input_shape=input_shape))\n",
    "model.add(Conv2D(64, (3, 3), activation='relu'))\n",
    "model.add(MaxPooling2D(pool_size=(2, 2)))\n",
    "model.add(Dropout(0.25))\n",
    "model.add(Flatten())\n",
    "model.add(Dense(128, activation='relu'))\n",
    "model.add(Dropout(0.5))\n",
    "model.add(Dense(num_classes, activation='softmax'))"
   ]
  },
  {
   "cell_type": "code",
   "execution_count": 65,
   "metadata": {},
   "outputs": [],
   "source": [
    "model.compile(loss=keras.losses.categorical_crossentropy,\n",
    "              optimizer=keras.optimizers.Adadelta(),\n",
    "              metrics=['accuracy'])"
   ]
  },
  {
   "cell_type": "code",
   "execution_count": 66,
   "metadata": {},
   "outputs": [
    {
     "name": "stdout",
     "output_type": "stream",
     "text": [
      "_________________________________________________________________\n",
      "Layer (type)                 Output Shape              Param #   \n",
      "=================================================================\n",
      "conv2d_7 (Conv2D)            (None, 46, 46, 32)        320       \n",
      "_________________________________________________________________\n",
      "conv2d_8 (Conv2D)            (None, 44, 44, 64)        18496     \n",
      "_________________________________________________________________\n",
      "max_pooling2d_4 (MaxPooling2 (None, 22, 22, 64)        0         \n",
      "_________________________________________________________________\n",
      "dropout_6 (Dropout)          (None, 22, 22, 64)        0         \n",
      "_________________________________________________________________\n",
      "conv2d_9 (Conv2D)            (None, 20, 20, 32)        18464     \n",
      "_________________________________________________________________\n",
      "conv2d_10 (Conv2D)           (None, 18, 18, 64)        18496     \n",
      "_________________________________________________________________\n",
      "max_pooling2d_5 (MaxPooling2 (None, 9, 9, 64)          0         \n",
      "_________________________________________________________________\n",
      "dropout_7 (Dropout)          (None, 9, 9, 64)          0         \n",
      "_________________________________________________________________\n",
      "flatten_3 (Flatten)          (None, 5184)              0         \n",
      "_________________________________________________________________\n",
      "dense_5 (Dense)              (None, 128)               663680    \n",
      "_________________________________________________________________\n",
      "dropout_8 (Dropout)          (None, 128)               0         \n",
      "_________________________________________________________________\n",
      "dense_6 (Dense)              (None, 7)                 903       \n",
      "=================================================================\n",
      "Total params: 720,359\n",
      "Trainable params: 720,359\n",
      "Non-trainable params: 0\n",
      "_________________________________________________________________\n"
     ]
    }
   ],
   "source": [
    "model.summary()"
   ]
  },
  {
   "cell_type": "code",
   "execution_count": 67,
   "metadata": {},
   "outputs": [
    {
     "name": "stdout",
     "output_type": "stream",
     "text": [
      "Train on 2339 samples, validate on 585 samples\n",
      "Epoch 1/20\n",
      "2339/2339 [==============================] - 96s 41ms/step - loss: 1.8901 - acc: 0.2698 - val_loss: 1.9152 - val_acc: 0.2872\n",
      "Epoch 2/20\n",
      "2339/2339 [==============================] - 98s 42ms/step - loss: 1.8757 - acc: 0.2869 - val_loss: 1.8851 - val_acc: 0.2872\n",
      "Epoch 3/20\n",
      "2339/2339 [==============================] - 99s 42ms/step - loss: 1.8698 - acc: 0.2873 - val_loss: 1.8812 - val_acc: 0.2872\n",
      "Epoch 4/20\n",
      "2339/2339 [==============================] - 111s 48ms/step - loss: 1.8684 - acc: 0.2873 - val_loss: 1.8757 - val_acc: 0.2872\n",
      "Epoch 5/20\n",
      "2339/2339 [==============================] - 105s 45ms/step - loss: 1.8733 - acc: 0.2873 - val_loss: 1.8764 - val_acc: 0.2872\n",
      "Epoch 6/20\n",
      "2339/2339 [==============================] - 99s 42ms/step - loss: 1.8694 - acc: 0.2873 - val_loss: 1.8780 - val_acc: 0.2872\n",
      "Epoch 7/20\n",
      "2339/2339 [==============================] - 100s 43ms/step - loss: 1.8697 - acc: 0.2873 - val_loss: 1.8666 - val_acc: 0.2872\n",
      "Epoch 8/20\n",
      "2339/2339 [==============================] - 99s 42ms/step - loss: 1.8648 - acc: 0.2873 - val_loss: 1.8666 - val_acc: 0.2872\n",
      "Epoch 9/20\n",
      "2339/2339 [==============================] - 100s 43ms/step - loss: 1.8682 - acc: 0.2873 - val_loss: 1.9107 - val_acc: 0.2872\n",
      "Epoch 10/20\n",
      "2339/2339 [==============================] - 101s 43ms/step - loss: 1.8707 - acc: 0.2873 - val_loss: 1.8664 - val_acc: 0.2872\n",
      "Epoch 11/20\n",
      "2339/2339 [==============================] - 100s 43ms/step - loss: 1.8666 - acc: 0.2873 - val_loss: 1.8668 - val_acc: 0.2872\n",
      "Epoch 12/20\n",
      "2339/2339 [==============================] - 99s 42ms/step - loss: 1.8642 - acc: 0.2873 - val_loss: 1.8657 - val_acc: 0.2872\n",
      "Epoch 13/20\n",
      "2339/2339 [==============================] - 96s 41ms/step - loss: 1.8674 - acc: 0.2873 - val_loss: 1.8741 - val_acc: 0.2872\n",
      "Epoch 14/20\n",
      "2339/2339 [==============================] - 99s 42ms/step - loss: 1.8665 - acc: 0.2873 - val_loss: 1.8802 - val_acc: 0.2872\n",
      "Epoch 15/20\n",
      "2339/2339 [==============================] - 97s 41ms/step - loss: 1.8665 - acc: 0.2873 - val_loss: 1.8656 - val_acc: 0.2872\n",
      "Epoch 16/20\n",
      "2339/2339 [==============================] - 97s 41ms/step - loss: 1.8616 - acc: 0.2873 - val_loss: 1.8654 - val_acc: 0.2872\n",
      "Epoch 17/20\n",
      "2339/2339 [==============================] - 101s 43ms/step - loss: 1.8615 - acc: 0.2873 - val_loss: 1.8663 - val_acc: 0.2872\n",
      "Epoch 18/20\n",
      "2339/2339 [==============================] - 96s 41ms/step - loss: 1.8637 - acc: 0.2873 - val_loss: 1.8678 - val_acc: 0.2872\n",
      "Epoch 19/20\n",
      "2339/2339 [==============================] - 99s 42ms/step - loss: 1.8624 - acc: 0.2873 - val_loss: 1.8664 - val_acc: 0.2872\n",
      "Epoch 20/20\n",
      "2339/2339 [==============================] - 97s 42ms/step - loss: 1.8629 - acc: 0.2873 - val_loss: 1.8657 - val_acc: 0.2872\n"
     ]
    }
   ],
   "source": [
    "history = model.fit(x_train, y_train,\n",
    "          batch_size=batch_size,\n",
    "          epochs=epochs,\n",
    "          verbose=1,\n",
    "          validation_split=0.2)"
   ]
  },
  {
   "cell_type": "code",
   "execution_count": 68,
   "metadata": {},
   "outputs": [
    {
     "name": "stdout",
     "output_type": "stream",
     "text": [
      "Test loss: [1.8536620552650098, 0.2886762360684229]\n"
     ]
    }
   ],
   "source": [
    "score = model.evaluate(x_test, y_test, verbose=0)\n",
    "print('Test loss:', score)"
   ]
  },
  {
   "cell_type": "code",
   "execution_count": 69,
   "metadata": {},
   "outputs": [
    {
     "data": {
      "text/plain": [
       "Text(0.5, 1.0, 'Loss Curves')"
      ]
     },
     "execution_count": 69,
     "metadata": {},
     "output_type": "execute_result"
    },
    {
     "data": {
      "image/png": "[encoded data removed]",
      "text/plain": [
       "<Figure size 576x432 with 1 Axes>"
      ]
     },
     "metadata": {
      "needs_background": "light"
     },
     "output_type": "display_data"
    }
   ],
   "source": [
    "plt.figure(figsize=[8,6])\n",
    "plt.plot(history.history['loss'],'r',linewidth=3.0)\n",
    "plt.plot(history.history['val_loss'],'b',linewidth=3.0)\n",
    "plt.legend(['Training loss', 'Validation Loss'],fontsize=18)\n",
    "plt.xlabel('Epochs ',fontsize=16)\n",
    "plt.ylabel('Loss',fontsize=16)\n",
    "plt.title('Loss Curves',fontsize=16)"
   ]
  },
  {
   "cell_type": "code",
   "execution_count": 71,
   "metadata": {},
   "outputs": [],
   "source": [
    "#model from CIFAR\n",
    "model = Sequential()\n",
    "\n",
    "model.add(Conv2D(32, (3, 3), padding='same', activation='relu', input_shape=x_train.shape[1:]))\n",
    "model.add(Dropout(0.2))\n",
    "\n",
    "model.add(Conv2D(32,(3,3),padding='same', activation='relu'))\n",
    "model.add(MaxPooling2D(pool_size=(2,2)))\n",
    "\n",
    "model.add(Conv2D(64,(3,3),padding='same',activation='relu'))\n",
    "model.add(Dropout(0.2))\n",
    "\n",
    "model.add(Conv2D(64,(3,3),padding='same',activation='relu'))\n",
    "model.add(MaxPooling2D(pool_size=(2,2)))\n",
    "\n",
    "model.add(Conv2D(128,(3,3),padding='same',activation='relu'))\n",
    "model.add(Dropout(0.2))\n",
    "\n",
    "model.add(Conv2D(128,(3,3),padding='same',activation='relu'))\n",
    "model.add(MaxPooling2D(pool_size=(2,2)))\n",
    "\n",
    "model.add(Flatten())\n",
    "model.add(Dropout(0.2))\n",
    "model.add(Dense(1024,activation='relu'))\n",
    "model.add(Dropout(0.2))\n",
    "model.add(Dense(num_classes, activation='softmax'))\n"
   ]
  },
  {
   "cell_type": "code",
   "execution_count": 72,
   "metadata": {},
   "outputs": [],
   "source": [
    "model.compile(loss=keras.losses.categorical_crossentropy,\n",
    "              optimizer=keras.optimizers.Adadelta(),\n",
    "              metrics=['accuracy'])"
   ]
  },
  {
   "cell_type": "code",
   "execution_count": 73,
   "metadata": {},
   "outputs": [
    {
     "name": "stdout",
     "output_type": "stream",
     "text": [
      "_________________________________________________________________\n",
      "Layer (type)                 Output Shape              Param #   \n",
      "=================================================================\n",
      "conv2d_17 (Conv2D)           (None, 48, 48, 32)        320       \n",
      "_________________________________________________________________\n",
      "dropout_13 (Dropout)         (None, 48, 48, 32)        0         \n",
      "_________________________________________________________________\n",
      "conv2d_18 (Conv2D)           (None, 48, 48, 32)        9248      \n",
      "_________________________________________________________________\n",
      "max_pooling2d_9 (MaxPooling2 (None, 24, 24, 32)        0         \n",
      "_________________________________________________________________\n",
      "conv2d_19 (Conv2D)           (None, 24, 24, 64)        18496     \n",
      "_________________________________________________________________\n",
      "dropout_14 (Dropout)         (None, 24, 24, 64)        0         \n",
      "_________________________________________________________________\n",
      "conv2d_20 (Conv2D)           (None, 24, 24, 64)        36928     \n",
      "_________________________________________________________________\n",
      "max_pooling2d_10 (MaxPooling (None, 12, 12, 64)        0         \n",
      "_________________________________________________________________\n",
      "conv2d_21 (Conv2D)           (None, 12, 12, 128)       73856     \n",
      "_________________________________________________________________\n",
      "dropout_15 (Dropout)         (None, 12, 12, 128)       0         \n",
      "_________________________________________________________________\n",
      "conv2d_22 (Conv2D)           (None, 12, 12, 128)       147584    \n",
      "_________________________________________________________________\n",
      "max_pooling2d_11 (MaxPooling (None, 6, 6, 128)         0         \n",
      "_________________________________________________________________\n",
      "flatten_5 (Flatten)          (None, 4608)              0         \n",
      "_________________________________________________________________\n",
      "dropout_16 (Dropout)         (None, 4608)              0         \n",
      "_________________________________________________________________\n",
      "dense_7 (Dense)              (None, 1024)              4719616   \n",
      "_________________________________________________________________\n",
      "dropout_17 (Dropout)         (None, 1024)              0         \n",
      "_________________________________________________________________\n",
      "dense_8 (Dense)              (None, 7)                 7175      \n",
      "=================================================================\n",
      "Total params: 5,013,223\n",
      "Trainable params: 5,013,223\n",
      "Non-trainable params: 0\n",
      "_________________________________________________________________\n"
     ]
    }
   ],
   "source": [
    "model.summary()"
   ]
  },
  {
   "cell_type": "code",
   "execution_count": 74,
   "metadata": {},
   "outputs": [
    {
     "name": "stdout",
     "output_type": "stream",
     "text": [
      "Train on 2339 samples, validate on 585 samples\n",
      "Epoch 1/20\n",
      "2339/2339 [==============================] - 119s 51ms/step - loss: 1.8879 - acc: 0.2788 - val_loss: 1.8750 - val_acc: 0.2872\n",
      "Epoch 2/20\n",
      "2339/2339 [==============================] - 122s 52ms/step - loss: 1.8664 - acc: 0.2873 - val_loss: 1.8659 - val_acc: 0.2872\n",
      "Epoch 3/20\n",
      "2339/2339 [==============================] - 121s 52ms/step - loss: 1.8666 - acc: 0.2873 - val_loss: 1.8666 - val_acc: 0.2872\n",
      "Epoch 4/20\n",
      "2339/2339 [==============================] - 119s 51ms/step - loss: 1.8657 - acc: 0.2873 - val_loss: 1.8722 - val_acc: 0.2872\n",
      "Epoch 5/20\n",
      "2339/2339 [==============================] - 113s 48ms/step - loss: 1.8655 - acc: 0.2873 - val_loss: 1.8654 - val_acc: 0.2872\n",
      "Epoch 6/20\n",
      "2339/2339 [==============================] - 113s 48ms/step - loss: 1.8637 - acc: 0.2873 - val_loss: 1.8669 - val_acc: 0.2872\n",
      "Epoch 7/20\n",
      "2339/2339 [==============================] - 109s 47ms/step - loss: 1.8627 - acc: 0.2873 - val_loss: 1.8690 - val_acc: 0.2872\n",
      "Epoch 8/20\n",
      "2339/2339 [==============================] - 111s 47ms/step - loss: 1.8636 - acc: 0.2873 - val_loss: 1.8665 - val_acc: 0.2872\n",
      "Epoch 9/20\n",
      "2339/2339 [==============================] - 111s 47ms/step - loss: 1.8636 - acc: 0.2873 - val_loss: 1.8689 - val_acc: 0.2872\n",
      "Epoch 10/20\n",
      "2339/2339 [==============================] - 111s 47ms/step - loss: 1.8635 - acc: 0.2873 - val_loss: 1.8720 - val_acc: 0.2872\n",
      "Epoch 11/20\n",
      "2339/2339 [==============================] - 112s 48ms/step - loss: 1.8634 - acc: 0.2873 - val_loss: 1.8661 - val_acc: 0.2872\n",
      "Epoch 12/20\n",
      "2339/2339 [==============================] - 109s 46ms/step - loss: 1.8633 - acc: 0.2873 - val_loss: 1.8674 - val_acc: 0.2872\n",
      "Epoch 13/20\n",
      "2339/2339 [==============================] - 110s 47ms/step - loss: 1.8625 - acc: 0.2873 - val_loss: 1.8663 - val_acc: 0.2872\n",
      "Epoch 14/20\n",
      "2339/2339 [==============================] - 109s 47ms/step - loss: 1.8627 - acc: 0.2873 - val_loss: 1.8674 - val_acc: 0.2872\n",
      "Epoch 15/20\n",
      "2339/2339 [==============================] - 109s 46ms/step - loss: 1.8618 - acc: 0.2873 - val_loss: 1.8662 - val_acc: 0.2872\n",
      "Epoch 16/20\n",
      "2339/2339 [==============================] - 110s 47ms/step - loss: 1.8630 - acc: 0.2873 - val_loss: 1.8653 - val_acc: 0.2872\n",
      "Epoch 17/20\n",
      "2339/2339 [==============================] - 111s 47ms/step - loss: 1.8622 - acc: 0.2873 - val_loss: 1.8665 - val_acc: 0.2872\n",
      "Epoch 18/20\n",
      "2339/2339 [==============================] - 107s 46ms/step - loss: 1.8624 - acc: 0.2873 - val_loss: 1.8669 - val_acc: 0.2872\n",
      "Epoch 19/20\n",
      "2339/2339 [==============================] - 110s 47ms/step - loss: 1.8634 - acc: 0.2873 - val_loss: 1.8665 - val_acc: 0.2872\n",
      "Epoch 20/20\n",
      "2339/2339 [==============================] - 115s 49ms/step - loss: 1.8622 - acc: 0.2873 - val_loss: 1.8650 - val_acc: 0.2872\n"
     ]
    }
   ],
   "source": [
    "history = model.fit(x_train, y_train,\n",
    "          batch_size=batch_size,\n",
    "          epochs=epochs,\n",
    "          verbose=1,\n",
    "          validation_split=0.2)"
   ]
  },
  {
   "cell_type": "code",
   "execution_count": 75,
   "metadata": {},
   "outputs": [
    {
     "name": "stdout",
     "output_type": "stream",
     "text": [
      "Test loss: [1.8525960717284888, 0.2886762360684229]\n"
     ]
    }
   ],
   "source": [
    "score = model.evaluate(x_test, y_test, verbose=0)\n",
    "print('Test loss:', score)"
   ]
  },
  {
   "cell_type": "code",
   "execution_count": 76,
   "metadata": {},
   "outputs": [
    {
     "data": {
      "text/plain": [
       "Text(0.5, 1.0, 'Loss Curves')"
      ]
     },
     "execution_count": 76,
     "metadata": {},
     "output_type": "execute_result"
    },
    {
     "data": {
      "image/png": "[encoded data removed]",
      "text/plain": [
       "<Figure size 576x432 with 1 Axes>"
      ]
     },
     "metadata": {
      "needs_background": "light"
     },
     "output_type": "display_data"
    }
   ],
   "source": [
    "plt.figure(figsize=[8,6])\n",
    "plt.plot(history.history['loss'],'r',linewidth=3.0)\n",
    "plt.plot(history.history['val_loss'],'b',linewidth=3.0)\n",
    "plt.legend(['Training loss', 'Validation Loss'],fontsize=18)\n",
    "plt.xlabel('Epochs ',fontsize=16)\n",
    "plt.ylabel('Loss',fontsize=16)\n",
    "plt.title('Loss Curves',fontsize=16)"
   ]
  },
  {
   "cell_type": "code",
   "execution_count": 81,
   "metadata": {},
   "outputs": [],
   "source": [
    "#running the model with the whole training dataset originally provided\n",
    "\n",
    "traintotal = np.concatenate((x_train,x_test),axis=0)\n",
    "labelstotal = np.concatenate((y_train, y_test),axis=0)"
   ]
  },
  {
   "cell_type": "code",
   "execution_count": 82,
   "metadata": {},
   "outputs": [
    {
     "name": "stdout",
     "output_type": "stream",
     "text": [
      "Train on 3342 samples, validate on 836 samples\n",
      "Epoch 1/20\n",
      "3342/3342 [==============================] - 171s 51ms/step - loss: 1.8589 - acc: 0.2873 - val_loss: 1.8632 - val_acc: 0.2895\n",
      "Epoch 2/20\n",
      "3342/3342 [==============================] - 187s 56ms/step - loss: 1.8595 - acc: 0.2873 - val_loss: 1.8657 - val_acc: 0.2895\n",
      "Epoch 3/20\n",
      "3342/3342 [==============================] - 175s 52ms/step - loss: 1.8585 - acc: 0.2873 - val_loss: 1.8660 - val_acc: 0.2895\n",
      "Epoch 4/20\n",
      "3342/3342 [==============================] - 176s 53ms/step - loss: 1.8594 - acc: 0.2873 - val_loss: 1.8641 - val_acc: 0.2895\n",
      "Epoch 5/20\n",
      "3342/3342 [==============================] - 172s 51ms/step - loss: 1.8601 - acc: 0.2873 - val_loss: 1.8640 - val_acc: 0.2895\n",
      "Epoch 6/20\n",
      "3342/3342 [==============================] - 180s 54ms/step - loss: 1.8597 - acc: 0.2873 - val_loss: 1.8657 - val_acc: 0.2895\n",
      "Epoch 7/20\n",
      "3342/3342 [==============================] - 171s 51ms/step - loss: 1.8587 - acc: 0.2873 - val_loss: 1.8662 - val_acc: 0.2895\n",
      "Epoch 8/20\n",
      "3342/3342 [==============================] - 174s 52ms/step - loss: 1.8589 - acc: 0.2873 - val_loss: 1.8647 - val_acc: 0.2895\n",
      "Epoch 9/20\n",
      "3342/3342 [==============================] - 172s 52ms/step - loss: 1.8584 - acc: 0.2873 - val_loss: 1.8678 - val_acc: 0.2895\n",
      "Epoch 10/20\n",
      "3342/3342 [==============================] - 169s 51ms/step - loss: 1.8594 - acc: 0.2873 - val_loss: 1.8660 - val_acc: 0.2895\n",
      "Epoch 11/20\n",
      "3342/3342 [==============================] - 169s 51ms/step - loss: 1.8592 - acc: 0.2873 - val_loss: 1.8640 - val_acc: 0.2895\n",
      "Epoch 12/20\n",
      "3342/3342 [==============================] - 171s 51ms/step - loss: 1.8594 - acc: 0.2873 - val_loss: 1.8653 - val_acc: 0.2895\n",
      "Epoch 13/20\n",
      "3342/3342 [==============================] - 176s 53ms/step - loss: 1.8587 - acc: 0.2873 - val_loss: 1.8657 - val_acc: 0.2895\n",
      "Epoch 14/20\n",
      "3342/3342 [==============================] - 173s 52ms/step - loss: 1.8580 - acc: 0.2873 - val_loss: 1.8660 - val_acc: 0.2895\n",
      "Epoch 15/20\n",
      "3342/3342 [==============================] - 179s 54ms/step - loss: 1.8588 - acc: 0.2873 - val_loss: 1.8648 - val_acc: 0.2895\n",
      "Epoch 16/20\n",
      "3342/3342 [==============================] - 172s 51ms/step - loss: 1.8590 - acc: 0.2873 - val_loss: 1.8654 - val_acc: 0.2895\n",
      "Epoch 17/20\n",
      "3342/3342 [==============================] - 175s 52ms/step - loss: 1.8587 - acc: 0.2873 - val_loss: 1.8640 - val_acc: 0.2895\n",
      "Epoch 18/20\n",
      "3342/3342 [==============================] - 176s 53ms/step - loss: 1.8587 - acc: 0.2873 - val_loss: 1.8647 - val_acc: 0.2895\n",
      "Epoch 19/20\n",
      "3342/3342 [==============================] - 174s 52ms/step - loss: 1.8592 - acc: 0.2873 - val_loss: 1.8651 - val_acc: 0.2895\n",
      "Epoch 20/20\n",
      "3342/3342 [==============================] - 176s 53ms/step - loss: 1.8590 - acc: 0.2873 - val_loss: 1.8652 - val_acc: 0.2895\n"
     ]
    }
   ],
   "source": [
    "history = model.fit(traintotal, labelstotal,\n",
    "          batch_size=batch_size,\n",
    "          epochs=epochs,\n",
    "          verbose=1,\n",
    "          validation_split=0.2)"
   ]
  },
  {
   "cell_type": "code",
   "execution_count": null,
   "metadata": {},
   "outputs": [],
   "source": []
  }
 ],
 "metadata": {
  "kernelspec": {
   "display_name": "Python 3",
   "language": "python",
   "name": "python3"
  },
  "language_info": {
   "codemirror_mode": {
    "name": "ipython",
    "version": 3
   },
   "file_extension": ".py",
   "mimetype": "text/x-python",
   "name": "python",
   "nbconvert_exporter": "python",
   "pygments_lexer": "ipython3",
   "version": "3.6.4"
  }
 },
 "nbformat": 4,
 "nbformat_minor": 2
}
